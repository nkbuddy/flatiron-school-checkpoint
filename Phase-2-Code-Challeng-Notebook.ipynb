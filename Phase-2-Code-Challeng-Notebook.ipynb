{
 "cells": [
  {
   "cell_type": "markdown",
   "metadata": {
    "deletable": false,
    "editable": false,
    "nbgrader": {
     "cell_type": "markdown",
     "checksum": "2e899ab3ceb031d30f9e98588a7834a5",
     "grade": false,
     "grade_id": "cell-406d340d7286364c",
     "locked": true,
     "schema_version": 3,
     "solution": false,
     "task": false
    }
   },
   "source": [
    "# Phase 2 Code Challenge\n",
    "\n",
    "This code challenge is designed to test your understanding of the Phase 2 material. It covers:\n",
    "\n",
    "- Normal Distribution\n",
    "- Statistical Tests\n",
    "- Bayesian Statistics\n",
    "- Linear Regression\n",
    "\n",
    "_Read the instructions carefully_. You will be asked both to write code and to answer short answer questions.\n",
    "\n",
    "## Code Tests\n",
    "\n",
    "We have provided some code tests for you to run to check that your work meets the item specifications. Passing these tests does not necessarily mean that you have gotten the item correct - there are additional hidden tests. However, if any of the tests do not pass, this tells you that your code is incorrect and needs changes to meet the specification. To determine what the issue is, read the comments in the code test cells, the error message you receive, and the item instructions.\n",
    "\n",
    "## Short Answer Questions \n",
    "\n",
    "For the short answer questions...\n",
    "\n",
    "* _Use your own words_. It is OK to refer to outside resources when crafting your response, but _do not copy text from another source_.\n",
    "\n",
    "* _Communicate clearly_. We are not grading your writing skills, but you can only receive full credit if your teacher is able to fully understand your response. \n",
    "\n",
    "* _Be concise_. You should be able to answer most short answer questions in a sentence or two. Writing unnecessarily long answers increases the risk of you being unclear or saying something incorrect."
   ]
  },
  {
   "cell_type": "code",
   "execution_count": 1,
   "metadata": {
    "deletable": false,
    "editable": false,
    "nbgrader": {
     "cell_type": "code",
     "checksum": "2f10745d7f7c2557bc76f7221425820f",
     "grade": false,
     "grade_id": "cell-d04c1470087d31aa",
     "locked": true,
     "schema_version": 3,
     "solution": false,
     "task": false
    }
   },
   "outputs": [],
   "source": [
    "# Run this cell without changes to import the necessary libraries\n",
    "\n",
    "import itertools\n",
    "import numpy as np\n",
    "import pandas as pd \n",
    "from numbers import Number\n",
    "from scipy import stats\n",
    "import matplotlib.pyplot as plt\n",
    "import seaborn as sns\n",
    "%matplotlib inline\n",
    "\n",
    "import pickle"
   ]
  },
  {
   "cell_type": "markdown",
   "metadata": {},
   "source": [
    "---\n",
    "## Part 1: Normal Distribution [Suggested time: 20 minutes]\n",
    "---\n",
    "In this part, you will analyze check totals at a TexMex restaurant. We know that the population distribution of check totals for the TexMex restaurant is normally distributed with a mean of \\\\$20 and a standard deviation of \\\\$3. "
   ]
  },
  {
   "cell_type": "markdown",
   "metadata": {
    "deletable": false,
    "editable": false,
    "nbgrader": {
     "cell_type": "markdown",
     "checksum": "293520be5095ed31ee986d5f8cc8de84",
     "grade": false,
     "grade_id": "cell-46b6b6254aeeff59",
     "locked": true,
     "schema_version": 3,
     "solution": false,
     "task": false
    }
   },
   "source": [
    "### 1.1) Create a numeric variable `z_score_26` containing the z-score for a \\\\$26 check. "
   ]
  },
  {
   "cell_type": "markdown",
   "metadata": {
    "deletable": false,
    "editable": false,
    "nbgrader": {
     "cell_type": "markdown",
     "checksum": "472b18b81d666032fc9cc93650a3fd66",
     "grade": false,
     "grade_id": "cell-ef9660b9613a17a4",
     "locked": true,
     "schema_version": 3,
     "solution": false,
     "task": false
    }
   },
   "source": [
    "**Starter Code**\n",
    "\n",
    "    z_score_26 = "
   ]
  },
  {
   "cell_type": "code",
   "execution_count": 24,
   "metadata": {
    "deletable": false,
    "nbgrader": {
     "cell_type": "code",
     "checksum": "6051ace03e8131d6e59f50fd56d6952b",
     "grade": false,
     "grade_id": "cell-b947773fd0a27e5d",
     "locked": false,
     "schema_version": 3,
     "solution": true,
     "task": false
    }
   },
   "outputs": [
    {
     "data": {
      "text/plain": [
       "2.0"
      ]
     },
     "execution_count": 24,
     "metadata": {},
     "output_type": "execute_result"
    }
   ],
   "source": [
    "# your code here\n",
    "from scipy.stats import norm\n",
    "mean = 20\n",
    "s = 3\n",
    "z_score_26 = (26 - 20) / 3\n",
    "z_score_26"
   ]
  },
  {
   "cell_type": "code",
   "execution_count": 25,
   "metadata": {
    "deletable": false,
    "editable": false,
    "nbgrader": {
     "cell_type": "code",
     "checksum": "7e9d5f2e8a5e557223708b9ca75aa98e",
     "grade": true,
     "grade_id": "cell-a72f04fffcbada78",
     "locked": true,
     "points": 1,
     "schema_version": 3,
     "solution": false,
     "task": false
    }
   },
   "outputs": [],
   "source": [
    "# This test confirms that you have created a numeric variable named z_score_26\n",
    "\n",
    "assert isinstance(z_score_26, Number)\n"
   ]
  },
  {
   "cell_type": "markdown",
   "metadata": {
    "deletable": false,
    "editable": false,
    "nbgrader": {
     "cell_type": "markdown",
     "checksum": "bd4be1900a2f0b77b1704d7e5ac1926b",
     "grade": false,
     "grade_id": "cell-42d5460165295bb7",
     "locked": true,
     "schema_version": 3,
     "solution": false,
     "task": false
    }
   },
   "source": [
    "### 1.2) Create a numeric variable `p_under_26` containing the approximate proportion of all checks that are less than \\\\$26.\n",
    "\n",
    "Hint: Use the answer from the previous question along with the empirical rule, a Python function, or this [z-table](https://www.math.arizona.edu/~rsims/ma464/standardnormaltable.pdf)."
   ]
  },
  {
   "cell_type": "markdown",
   "metadata": {
    "deletable": false,
    "editable": false,
    "nbgrader": {
     "cell_type": "markdown",
     "checksum": "8109c6472c75cae09e71929b8c453b3e",
     "grade": false,
     "grade_id": "cell-999dca2e2a1e09ba",
     "locked": true,
     "schema_version": 3,
     "solution": false,
     "task": false
    }
   },
   "source": [
    "**Starter Code**\n",
    "\n",
    "    p_under_26 = "
   ]
  },
  {
   "cell_type": "code",
   "execution_count": 28,
   "metadata": {
    "deletable": false,
    "nbgrader": {
     "cell_type": "code",
     "checksum": "8501711e4484b05c153352933bb78747",
     "grade": false,
     "grade_id": "cell-a223448d6f75a998",
     "locked": false,
     "schema_version": 3,
     "solution": true,
     "task": false
    }
   },
   "outputs": [
    {
     "data": {
      "text/plain": [
       "0.9772498680518208"
      ]
     },
     "execution_count": 28,
     "metadata": {},
     "output_type": "execute_result"
    }
   ],
   "source": [
    "# your code here\n",
    "p_under_26 = norm.cdf(26, loc = 20, scale = 3)\n",
    "p_under_26"
   ]
  },
  {
   "cell_type": "code",
   "execution_count": 27,
   "metadata": {
    "deletable": false,
    "editable": false,
    "nbgrader": {
     "cell_type": "code",
     "checksum": "e38a6504951cce5044ccc9813814f3ce",
     "grade": true,
     "grade_id": "cell-626d2e6dea5a86ac",
     "locked": true,
     "points": 1,
     "schema_version": 3,
     "solution": false,
     "task": false
    }
   },
   "outputs": [],
   "source": [
    "# This test confirms that you have created a numeric variable named p_under_26\n",
    "\n",
    "assert isinstance(p_under_26, Number)\n",
    "\n",
    "# These tests confirm that p_under_26 is a value between 0 and 1\n",
    "\n",
    "assert p_under_26 >= 0\n",
    "assert p_under_26 <= 1\n"
   ]
  },
  {
   "cell_type": "markdown",
   "metadata": {
    "deletable": false,
    "editable": false,
    "nbgrader": {
     "cell_type": "markdown",
     "checksum": "591067efa5a67d68e9496a9687c16b35",
     "grade": false,
     "grade_id": "cell-b20994e953b823df",
     "locked": true,
     "schema_version": 3,
     "solution": false,
     "task": false
    }
   },
   "source": [
    "### 1.3) Create numeric variables `conf_low` and `conf_high` containing the lower and upper bounds (respectively) of a 95% confidence interval for the mean of one waiter's check amounts using the information below. \n",
    "\n",
    "One week, a waiter gets 100 checks with a mean of \\\\$19 and a standard deviation of \\\\$3."
   ]
  },
  {
   "cell_type": "markdown",
   "metadata": {
    "deletable": false,
    "editable": false,
    "nbgrader": {
     "cell_type": "markdown",
     "checksum": "5d5e3fb5066b84c6c0380e778ed888c5",
     "grade": false,
     "grade_id": "cell-a4925898f2c5bfb5",
     "locked": true,
     "schema_version": 3,
     "solution": false,
     "task": false
    }
   },
   "source": [
    "**Starter Code**\n",
    "\n",
    "    n = 100\n",
    "    mean = 19\n",
    "    std = 3\n",
    "    \n",
    "    conf_low = \n",
    "    conf_high = "
   ]
  },
  {
   "cell_type": "code",
   "execution_count": 31,
   "metadata": {
    "deletable": false,
    "nbgrader": {
     "cell_type": "code",
     "checksum": "cc85eb7f2b11ba09a798d49e81a531b6",
     "grade": false,
     "grade_id": "cell-fb0a963f092cb64d",
     "locked": false,
     "schema_version": 3,
     "solution": true,
     "task": false
    }
   },
   "outputs": [
    {
     "name": "stdout",
     "output_type": "stream",
     "text": [
      "18.412 19.588\n"
     ]
    }
   ],
   "source": [
    "# your code here\n",
    "mean = 19\n",
    "sd = 3\n",
    "z = 1.96\n",
    "n = 100\n",
    "meo = z * sd / np.sqrt(n)\n",
    "conf_low, conf_high = (mean-meo , mean+meo)\n",
    "print(conf_low, conf_high)"
   ]
  },
  {
   "cell_type": "code",
   "execution_count": 32,
   "metadata": {
    "deletable": false,
    "editable": false,
    "nbgrader": {
     "cell_type": "code",
     "checksum": "73bf4a89139efcc1aa62b0071d2a0501",
     "grade": true,
     "grade_id": "cell-d995ba92d5f4f1f3",
     "locked": true,
     "points": 1,
     "schema_version": 3,
     "solution": false,
     "task": false
    }
   },
   "outputs": [
    {
     "name": "stdout",
     "output_type": "stream",
     "text": [
      "The lower bound of the 95% confidence interval is 18.412\n",
      "The upper bound of the 95% confidence interval is 19.588\n"
     ]
    }
   ],
   "source": [
    "# These tests confirm that you have created numeric variables named conf_low and conf_high\n",
    "\n",
    "assert isinstance(conf_low, Number)\n",
    "assert isinstance(conf_high, Number)\n",
    "\n",
    "# This test confirms that conf_low is below conf_high\n",
    "\n",
    "assert conf_low < conf_high\n",
    "\n",
    "# These statements print your answers for reference to help answer the next question\n",
    "\n",
    "print('The lower bound of the 95% confidence interval is {}'.format(conf_low))\n",
    "print('The upper bound of the 95% confidence interval is {}'.format(conf_high))\n"
   ]
  },
  {
   "cell_type": "markdown",
   "metadata": {
    "deletable": false,
    "editable": false,
    "nbgrader": {
     "cell_type": "markdown",
     "checksum": "9fc7324cd1d52fcdb9aaf9fcf580071d",
     "grade": false,
     "grade_id": "cell-fb9ed0f70c9bd8de",
     "locked": true,
     "schema_version": 3,
     "solution": false,
     "task": false
    }
   },
   "source": [
    "### 1.4) Short Answer: Interpret the 95% confidence interval you just calculated in Question 1.3."
   ]
  },
  {
   "cell_type": "markdown",
   "metadata": {
    "deletable": false,
    "nbgrader": {
     "cell_type": "markdown",
     "checksum": "009c3644b9cd34be8aa776702fa0a166",
     "grade": true,
     "grade_id": "cell-8212712ac7485fa9",
     "locked": false,
     "points": 1,
     "schema_version": 3,
     "solution": true,
     "task": false
    }
   },
   "source": [
    "18.412 to 19.588"
   ]
  },
  {
   "cell_type": "markdown",
   "metadata": {
    "deletable": false,
    "editable": false,
    "nbgrader": {
     "cell_type": "markdown",
     "checksum": "b36b4420dbafde7c4fb28c5818e24435",
     "grade": false,
     "grade_id": "cell-782ab283e22ce5ae",
     "locked": true,
     "schema_version": 3,
     "solution": false,
     "task": false
    }
   },
   "source": [
    "---\n",
    "## Part 2: Statistical Testing [Suggested time: 20 minutes]\n",
    "---\n",
    "The TexMex restaurant recently introduced queso to its menu.\n",
    "\n",
    "We have a random sample containing 2000 check totals, all from different customers: 1000 check totals for orders without queso (\"no queso\") and 1000 check totals for orders with queso (\"queso\").\n",
    "\n",
    "In the cell below, we load the sample data for you into the arrays `no_queso` and `queso` for the \"no queso\" and \"queso\" order check totals, respectively."
   ]
  },
  {
   "cell_type": "code",
   "execution_count": 33,
   "metadata": {
    "deletable": false,
    "editable": false,
    "nbgrader": {
     "cell_type": "code",
     "checksum": "5eb54e2799f823e8d5f719d2fffa5437",
     "grade": false,
     "grade_id": "cell-fdba1826c45c244d",
     "locked": true,
     "schema_version": 3,
     "solution": false,
     "task": false
    }
   },
   "outputs": [],
   "source": [
    "# Run this cell without changes\n",
    "\n",
    "# Load the sample data \n",
    "no_queso = pickle.load(open('./no_queso.pkl', 'rb'))\n",
    "queso = pickle.load(open('./queso.pkl', 'rb'))"
   ]
  },
  {
   "cell_type": "markdown",
   "metadata": {
    "deletable": false,
    "editable": false,
    "nbgrader": {
     "cell_type": "markdown",
     "checksum": "f6c45a516db19e67cc6c2af5ad8de3a8",
     "grade": false,
     "grade_id": "cell-05f7dc82e438a77f",
     "locked": true,
     "schema_version": 3,
     "solution": false,
     "task": false
    }
   },
   "source": [
    "### 2.1) Short Answer: State null and alternative hypotheses to use for testing whether customers who order queso spend different amounts of money from customers who do not order queso."
   ]
  },
  {
   "cell_type": "code",
   "execution_count": 35,
   "metadata": {},
   "outputs": [
    {
     "name": "stdout",
     "output_type": "stream",
     "text": [
      "20.047532509358607 23.992814607054243\n"
     ]
    }
   ],
   "source": [
    "print(no_queso.mean(), queso.mean())"
   ]
  },
  {
   "cell_type": "markdown",
   "metadata": {
    "deletable": false,
    "nbgrader": {
     "cell_type": "markdown",
     "checksum": "94c3f76910993c7e9b447b61376fd65a",
     "grade": true,
     "grade_id": "cell-1992605f4c2b8751",
     "locked": false,
     "points": 1,
     "schema_version": 3,
     "solution": true,
     "task": false
    }
   },
   "source": [
    "H0: customers who order queso spend less or equal customers who do not order queso\n",
    "H1: customers who order queso spend more than customers who do not order queso"
   ]
  },
  {
   "cell_type": "markdown",
   "metadata": {
    "deletable": false,
    "editable": false,
    "nbgrader": {
     "cell_type": "markdown",
     "checksum": "a870b47e0e095604d8378b6a16f26cc5",
     "grade": false,
     "grade_id": "cell-483bc2fff57780fa",
     "locked": true,
     "schema_version": 3,
     "solution": false,
     "task": false
    }
   },
   "source": [
    "### 2.2) Short Answer: What would it mean to make a Type I error for this specific hypothesis test?\n",
    "\n",
    "Your answer should be _specific to this context,_  not a general statement of what Type I error is."
   ]
  },
  {
   "cell_type": "markdown",
   "metadata": {
    "deletable": false,
    "nbgrader": {
     "cell_type": "markdown",
     "checksum": "b5bac8819171661d286c16ba8f195e0b",
     "grade": true,
     "grade_id": "cell-f5e449677777b2fb",
     "locked": false,
     "points": 1,
     "schema_version": 3,
     "solution": true,
     "task": false
    }
   },
   "source": [
    "z-test. we expect customers who order queso spend less than customers who do not order queso, Actually customers who order queso spend more than customers who do not order queso"
   ]
  },
  {
   "cell_type": "markdown",
   "metadata": {
    "deletable": false,
    "editable": false,
    "nbgrader": {
     "cell_type": "markdown",
     "checksum": "ee2e27c5c9bdbcd966942cb943f61c41",
     "grade": false,
     "grade_id": "cell-b044519654b42877",
     "locked": true,
     "schema_version": 3,
     "solution": false,
     "task": false
    }
   },
   "source": [
    "### 2.3) Create a numeric variable `p_value` containing the p-value associated with a statistical test of your hypotheses. \n",
    "\n",
    "You must identify and implement the correct statistical test for this scenario. You can assume the two samples have equal variances.\n",
    "\n",
    "Hint: Use `scipy.stats` to calculate the answer - it has already been imported as `stats`. Relevant documentation can be found [here](https://docs.scipy.org/doc/scipy/reference/stats.html#statistical-tests)."
   ]
  },
  {
   "cell_type": "markdown",
   "metadata": {
    "deletable": false,
    "editable": false,
    "nbgrader": {
     "cell_type": "markdown",
     "checksum": "900a4c639d929ee5a7a99e7697eebde8",
     "grade": false,
     "grade_id": "cell-db4a0aa68c4107d0",
     "locked": true,
     "schema_version": 3,
     "solution": false,
     "task": false
    }
   },
   "source": [
    "**Starter Code**\n",
    "\n",
    "    p_value = "
   ]
  },
  {
   "cell_type": "code",
   "execution_count": 67,
   "metadata": {
    "deletable": false,
    "nbgrader": {
     "cell_type": "code",
     "checksum": "1e716aaf2bc95399f95a88e1aaaa354a",
     "grade": false,
     "grade_id": "cell-c2e90acfaebc8303",
     "locked": false,
     "schema_version": 3,
     "solution": true,
     "task": false
    }
   },
   "outputs": [],
   "source": [
    "# your code here\n",
    "no_queso_mean = np.mean(no_queso)\n",
    "queso_mean = np.mean(queso)\n",
    "sigma = np.std(no_queso)\n",
    "n=1000\n",
    "order_z = (queso_mean - no_queso_mean) / (sigma / np.sqrt(n))\n",
    "p_value = 1-stats.norm.cdf(order_z)"
   ]
  },
  {
   "cell_type": "code",
   "execution_count": 79,
   "metadata": {},
   "outputs": [],
   "source": [
    "p_value = ttest_ind(queso, no_queso)[1]"
   ]
  },
  {
   "cell_type": "code",
   "execution_count": 80,
   "metadata": {},
   "outputs": [
    {
     "data": {
      "text/plain": [
       "1.29670967092511e-307"
      ]
     },
     "execution_count": 80,
     "metadata": {},
     "output_type": "execute_result"
    }
   ],
   "source": [
    "p_value"
   ]
  },
  {
   "cell_type": "code",
   "execution_count": 74,
   "metadata": {
    "deletable": false,
    "editable": false,
    "nbgrader": {
     "cell_type": "code",
     "checksum": "b47e1749f5295698838e5d8f15986c18",
     "grade": true,
     "grade_id": "cell-2364f38312cbc15e",
     "locked": true,
     "points": 1,
     "schema_version": 3,
     "solution": false,
     "task": false
    }
   },
   "outputs": [],
   "source": [
    "# These tests confirm that you have created a numeric variable named p_value\n",
    "\n",
    "assert isinstance(p_value, Number)\n"
   ]
  },
  {
   "cell_type": "markdown",
   "metadata": {
    "deletable": false,
    "editable": false,
    "nbgrader": {
     "cell_type": "markdown",
     "checksum": "08a4285de37397a9c81b50cb66a684ce",
     "grade": false,
     "grade_id": "cell-98db6e15784f2ead",
     "locked": true,
     "schema_version": 3,
     "solution": false,
     "task": false
    }
   },
   "source": [
    "### 2.4) Short Answer: Can you reject the null hypothesis using a significance level of $\\alpha$ = 0.05? Explain why or why not."
   ]
  },
  {
   "cell_type": "markdown",
   "metadata": {
    "deletable": false,
    "nbgrader": {
     "cell_type": "markdown",
     "checksum": "6ecae7cdf29817a870ec3a126ca71df5",
     "grade": true,
     "grade_id": "cell-92ea8835a9a326eb",
     "locked": false,
     "points": 1,
     "schema_version": 3,
     "solution": true,
     "task": false
    }
   },
   "source": [
    "reject null, because p less than alpha. Meaning it is big different between no_queso and queso. H1: customers who order queso spend more than customers who do not order queso"
   ]
  },
  {
   "cell_type": "markdown",
   "metadata": {
    "deletable": false,
    "editable": false,
    "nbgrader": {
     "cell_type": "markdown",
     "checksum": "616b8ca0c7dc2d5fab71d91d3e08b286",
     "grade": false,
     "grade_id": "cell-b6008343ed116f03",
     "locked": true,
     "schema_version": 3,
     "solution": false,
     "task": false
    }
   },
   "source": [
    "---\n",
    "## Part 3: Bayesian Statistics [Suggested time: 15 minutes]\n",
    "---\n",
    "A medical test is designed to diagnose a certain disease. The test has a false positive rate of 10%, meaning that 10% of people without the disease will get a positive test result. The test has a false negative rate of 2%, meaning that 2% of people with the disease will get a negative result. Only 1% of the population has this disease."
   ]
  },
  {
   "cell_type": "markdown",
   "metadata": {
    "deletable": false,
    "editable": false,
    "nbgrader": {
     "cell_type": "markdown",
     "checksum": "57571bc58f322364949f857ace73ccd0",
     "grade": false,
     "grade_id": "cell-1e51fa364dcf5516",
     "locked": true,
     "schema_version": 3,
     "solution": false,
     "task": false
    }
   },
   "source": [
    "### 3.1) Create a numeric variable `p_pos_test` containing the probability of a person receiving a positive test result.\n",
    "\n",
    "Assume that the person being tested is randomly selected from the broader population."
   ]
  },
  {
   "cell_type": "markdown",
   "metadata": {
    "deletable": false,
    "editable": false,
    "nbgrader": {
     "cell_type": "markdown",
     "checksum": "ba269f42f6f98a9135dec4e501201fd7",
     "grade": false,
     "grade_id": "cell-6c9a81af92dda9d0",
     "locked": true,
     "schema_version": 3,
     "solution": false,
     "task": false
    }
   },
   "source": [
    "**Starter Code**\n",
    "    \n",
    "    false_pos_rate = 0.1\n",
    "    false_neg_rate = 0.02\n",
    "    population_rate = 0.01\n",
    "    \n",
    "    p_pos_test = "
   ]
  },
  {
   "cell_type": "code",
   "execution_count": 54,
   "metadata": {
    "deletable": false,
    "nbgrader": {
     "cell_type": "code",
     "checksum": "d0db23d9e9a6a98d3e0fd9d4b668ff80",
     "grade": false,
     "grade_id": "cell-30ff893c7c30f29d",
     "locked": false,
     "schema_version": 3,
     "solution": true,
     "task": false
    }
   },
   "outputs": [
    {
     "data": {
      "text/plain": [
       "0.10880000000000001"
      ]
     },
     "execution_count": 54,
     "metadata": {},
     "output_type": "execute_result"
    }
   ],
   "source": [
    "# your code here\n",
    "false_pos_rate = 0.1\n",
    "false_neg_rate = 0.02\n",
    "population_rate = 0.01\n",
    "    \n",
    "p_pos_test = population_rate * (1-false_neg_rate) + (1 - population_rate) * false_pos_rate\n",
    "p_pos_test"
   ]
  },
  {
   "cell_type": "code",
   "execution_count": 55,
   "metadata": {
    "deletable": false,
    "editable": false,
    "nbgrader": {
     "cell_type": "code",
     "checksum": "aa0e56b1412d5de0a5407c344051fd15",
     "grade": true,
     "grade_id": "cell-2d49a1068c9e46b2",
     "locked": true,
     "points": 1,
     "schema_version": 3,
     "solution": false,
     "task": false
    }
   },
   "outputs": [],
   "source": [
    "# This test confirms that you have created a numeric variable named p_pos_test\n",
    "\n",
    "assert isinstance(p_pos_test, Number)\n",
    "\n",
    "# These tests confirm that p_pos_test is a value between 0 and 1\n",
    "\n",
    "assert p_pos_test >= 0\n",
    "assert p_pos_test <= 1\n"
   ]
  },
  {
   "cell_type": "markdown",
   "metadata": {
    "deletable": false,
    "editable": false,
    "nbgrader": {
     "cell_type": "markdown",
     "checksum": "da78fd029e3eb402f3d27c41353c67cf",
     "grade": false,
     "grade_id": "cell-57ed51c0909605eb",
     "locked": true,
     "schema_version": 3,
     "solution": false,
     "task": false
    }
   },
   "source": [
    "### 3.2) Create a numeric variable `p_pos_pos` containing the probability of a person actually having the disease if they receive a positive test result.\n",
    "\n",
    "Assume that the person being tested is randomly selected from the broader population.\n",
    "\n",
    "Hint: Use your answer to the previous question to help answer this one."
   ]
  },
  {
   "cell_type": "markdown",
   "metadata": {
    "deletable": false,
    "editable": false,
    "nbgrader": {
     "cell_type": "markdown",
     "checksum": "ab0045857079bd2c69149b45cebca939",
     "grade": false,
     "grade_id": "cell-434bfaff534cdd87",
     "locked": true,
     "schema_version": 3,
     "solution": false,
     "task": false
    }
   },
   "source": [
    "**Starter Code**\n",
    "    \n",
    "    false_pos_rate = 0.1\n",
    "    false_neg_rate = 0.02\n",
    "    population_rate = 0.01\n",
    "    \n",
    "    p_pos_pos = "
   ]
  },
  {
   "cell_type": "code",
   "execution_count": 61,
   "metadata": {
    "deletable": false,
    "nbgrader": {
     "cell_type": "code",
     "checksum": "68a46b7df86b39636c40cf98b7a3d10e",
     "grade": false,
     "grade_id": "cell-742273642f14d1ab",
     "locked": false,
     "schema_version": 3,
     "solution": true,
     "task": false
    }
   },
   "outputs": [],
   "source": [
    "# your code here\n",
    "p_pos_pos = 0.98 * population_rate / p_pos_test"
   ]
  },
  {
   "cell_type": "code",
   "execution_count": 62,
   "metadata": {},
   "outputs": [
    {
     "data": {
      "text/plain": [
       "0.09007352941176469"
      ]
     },
     "execution_count": 62,
     "metadata": {},
     "output_type": "execute_result"
    }
   ],
   "source": [
    "p_pos_pos"
   ]
  },
  {
   "cell_type": "code",
   "execution_count": 63,
   "metadata": {
    "deletable": false,
    "editable": false,
    "nbgrader": {
     "cell_type": "code",
     "checksum": "17053819e58cd925e15b3b662068f41f",
     "grade": true,
     "grade_id": "cell-4825f55ab11b5fff",
     "locked": true,
     "points": 1,
     "schema_version": 3,
     "solution": false,
     "task": false
    }
   },
   "outputs": [],
   "source": [
    "# This test confirms that you have created a numeric variable named p_pos_pos\n",
    "\n",
    "assert isinstance(p_pos_pos, Number)\n",
    "\n",
    "# These tests confirm that p_pos_pos is a value between 0 and 1\n",
    "\n",
    "assert p_pos_pos >= 0\n",
    "assert p_pos_pos <= 1\n"
   ]
  },
  {
   "cell_type": "markdown",
   "metadata": {
    "deletable": false,
    "editable": false,
    "nbgrader": {
     "cell_type": "markdown",
     "checksum": "a945cb609ce28e48f6162403c9402e59",
     "grade": false,
     "grade_id": "cell-1a05b3141ee72061",
     "locked": true,
     "schema_version": 3,
     "solution": false,
     "task": false
    }
   },
   "source": [
    "---\n",
    "\n",
    "## Part 4: Linear Regression [Suggested Time: 20 min]\n",
    "---\n",
    "\n",
    "In this section, you'll run regression models with advertising data. The dataset includes the advertising spending and sales for 200 products. These products are a random sample of 200 products from a larger population of products. \n",
    "\n",
    "The dataset has three features - `TV`, `radio`, and `newspaper` - that describe how many thousands of advertising dollars were spent promoting the product. The target, `sales`, describes how many millions of dollars in sales the product had."
   ]
  },
  {
   "cell_type": "code",
   "execution_count": 2,
   "metadata": {
    "deletable": false,
    "editable": false,
    "nbgrader": {
     "cell_type": "code",
     "checksum": "e2555a893f846cf68252c59671acf230",
     "grade": false,
     "grade_id": "cell-45da7df5e3f498ea",
     "locked": true,
     "schema_version": 3,
     "solution": false,
     "task": false
    }
   },
   "outputs": [],
   "source": [
    "# Run this cell without changes\n",
    "\n",
    "import statsmodels\n",
    "from statsmodels.formula.api import ols\n",
    "\n",
    "data = pd.read_csv('./advertising.csv').drop('Unnamed: 0', axis=1)\n",
    "X = data.drop('sales', axis=1)\n",
    "y = data['sales']"
   ]
  },
  {
   "cell_type": "markdown",
   "metadata": {
    "deletable": false,
    "editable": false,
    "nbgrader": {
     "cell_type": "markdown",
     "checksum": "d5dc71c2848cff87084a3af341adb39a",
     "grade": false,
     "grade_id": "cell-39615b71a29578f4",
     "locked": true,
     "schema_version": 3,
     "solution": false,
     "task": false
    }
   },
   "source": [
    "### 4.1) Create a variable `tv_mod_summ` containing the summary of a fit StatsModels `ols` model for a linear regression using `TV` to predict `sales`. "
   ]
  },
  {
   "cell_type": "markdown",
   "metadata": {
    "deletable": false,
    "editable": false,
    "nbgrader": {
     "cell_type": "markdown",
     "checksum": "0405ddab1e709a81a2e225f488de1c0c",
     "grade": false,
     "grade_id": "cell-b3ec0c6cbb503015",
     "locked": true,
     "schema_version": 3,
     "solution": false,
     "task": false
    }
   },
   "source": [
    "**Starter Code**\n",
    "\n",
    "    tv_mod = ols(\n",
    "    tv_mod_summ = tv_mod.summary()"
   ]
  },
  {
   "cell_type": "code",
   "execution_count": 4,
   "metadata": {},
   "outputs": [
    {
     "data": {
      "text/html": [
       "<div>\n",
       "<style scoped>\n",
       "    .dataframe tbody tr th:only-of-type {\n",
       "        vertical-align: middle;\n",
       "    }\n",
       "\n",
       "    .dataframe tbody tr th {\n",
       "        vertical-align: top;\n",
       "    }\n",
       "\n",
       "    .dataframe thead th {\n",
       "        text-align: right;\n",
       "    }\n",
       "</style>\n",
       "<table border=\"1\" class=\"dataframe\">\n",
       "  <thead>\n",
       "    <tr style=\"text-align: right;\">\n",
       "      <th></th>\n",
       "      <th>TV</th>\n",
       "      <th>radio</th>\n",
       "      <th>newspaper</th>\n",
       "      <th>sales</th>\n",
       "    </tr>\n",
       "  </thead>\n",
       "  <tbody>\n",
       "    <tr>\n",
       "      <th>count</th>\n",
       "      <td>200.000000</td>\n",
       "      <td>200.000000</td>\n",
       "      <td>200.000000</td>\n",
       "      <td>200.000000</td>\n",
       "    </tr>\n",
       "    <tr>\n",
       "      <th>mean</th>\n",
       "      <td>147.042500</td>\n",
       "      <td>23.264000</td>\n",
       "      <td>30.554000</td>\n",
       "      <td>14.022500</td>\n",
       "    </tr>\n",
       "    <tr>\n",
       "      <th>std</th>\n",
       "      <td>85.854236</td>\n",
       "      <td>14.846809</td>\n",
       "      <td>21.778621</td>\n",
       "      <td>5.217457</td>\n",
       "    </tr>\n",
       "    <tr>\n",
       "      <th>min</th>\n",
       "      <td>0.700000</td>\n",
       "      <td>0.000000</td>\n",
       "      <td>0.300000</td>\n",
       "      <td>1.600000</td>\n",
       "    </tr>\n",
       "    <tr>\n",
       "      <th>25%</th>\n",
       "      <td>74.375000</td>\n",
       "      <td>9.975000</td>\n",
       "      <td>12.750000</td>\n",
       "      <td>10.375000</td>\n",
       "    </tr>\n",
       "    <tr>\n",
       "      <th>50%</th>\n",
       "      <td>149.750000</td>\n",
       "      <td>22.900000</td>\n",
       "      <td>25.750000</td>\n",
       "      <td>12.900000</td>\n",
       "    </tr>\n",
       "    <tr>\n",
       "      <th>75%</th>\n",
       "      <td>218.825000</td>\n",
       "      <td>36.525000</td>\n",
       "      <td>45.100000</td>\n",
       "      <td>17.400000</td>\n",
       "    </tr>\n",
       "    <tr>\n",
       "      <th>max</th>\n",
       "      <td>296.400000</td>\n",
       "      <td>49.600000</td>\n",
       "      <td>114.000000</td>\n",
       "      <td>27.000000</td>\n",
       "    </tr>\n",
       "  </tbody>\n",
       "</table>\n",
       "</div>"
      ],
      "text/plain": [
       "               TV       radio   newspaper       sales\n",
       "count  200.000000  200.000000  200.000000  200.000000\n",
       "mean   147.042500   23.264000   30.554000   14.022500\n",
       "std     85.854236   14.846809   21.778621    5.217457\n",
       "min      0.700000    0.000000    0.300000    1.600000\n",
       "25%     74.375000    9.975000   12.750000   10.375000\n",
       "50%    149.750000   22.900000   25.750000   12.900000\n",
       "75%    218.825000   36.525000   45.100000   17.400000\n",
       "max    296.400000   49.600000  114.000000   27.000000"
      ]
     },
     "execution_count": 4,
     "metadata": {},
     "output_type": "execute_result"
    }
   ],
   "source": [
    "data.describe()"
   ]
  },
  {
   "cell_type": "code",
   "execution_count": 9,
   "metadata": {
    "deletable": false,
    "nbgrader": {
     "cell_type": "code",
     "checksum": "ac9ea5d6825296fc3836082bf95be9a5",
     "grade": false,
     "grade_id": "cell-86323454c9b2aa75",
     "locked": false,
     "schema_version": 3,
     "solution": true,
     "task": false
    }
   },
   "outputs": [],
   "source": [
    "# your code here\n",
    "import statsmodels.api as sm\n",
    "y = data['sales']\n",
    "x = data['TV']\n",
    "tv_mod = sm.OLS(y, x).fit()\n",
    "tv_mod_summ = tv_mod.summary()"
   ]
  },
  {
   "cell_type": "code",
   "execution_count": 10,
   "metadata": {
    "deletable": false,
    "editable": false,
    "nbgrader": {
     "cell_type": "code",
     "checksum": "ffafdeec0c626c70d3d887a05ab39b3e",
     "grade": true,
     "grade_id": "cell-84e163360346b9f6",
     "locked": true,
     "points": 1,
     "schema_version": 3,
     "solution": false,
     "task": false
    }
   },
   "outputs": [
    {
     "name": "stdout",
     "output_type": "stream",
     "text": [
      "                                 OLS Regression Results                                \n",
      "=======================================================================================\n",
      "Dep. Variable:                  sales   R-squared (uncentered):                   0.897\n",
      "Model:                            OLS   Adj. R-squared (uncentered):              0.896\n",
      "Method:                 Least Squares   F-statistic:                              1733.\n",
      "Date:                Thu, 24 Mar 2022   Prob (F-statistic):                   3.52e-100\n",
      "Time:                        17:54:15   Log-Likelihood:                         -597.51\n",
      "No. Observations:                 200   AIC:                                      1197.\n",
      "Df Residuals:                     199   BIC:                                      1200.\n",
      "Df Model:                           1                                                  \n",
      "Covariance Type:            nonrobust                                                  \n",
      "==============================================================================\n",
      "                 coef    std err          t      P>|t|      [0.025      0.975]\n",
      "------------------------------------------------------------------------------\n",
      "TV             0.0832      0.002     41.633      0.000       0.079       0.087\n",
      "==============================================================================\n",
      "Omnibus:                       20.228   Durbin-Watson:                   1.707\n",
      "Prob(Omnibus):                  0.000   Jarque-Bera (JB):               23.930\n",
      "Skew:                          -0.846   Prob(JB):                     6.36e-06\n",
      "Kurtosis:                       3.086   Cond. No.                         1.00\n",
      "==============================================================================\n",
      "\n",
      "Notes:\n",
      "[1] R² is computed without centering (uncentered) since the model does not contain a constant.\n",
      "[2] Standard Errors assume that the covariance matrix of the errors is correctly specified.\n"
     ]
    }
   ],
   "source": [
    "# This test confirms that you have created a variable named tv_mod_summ containing a StatsModels Summary\n",
    "\n",
    "assert type(tv_mod_summ) == statsmodels.iolib.summary.Summary\n",
    "\n",
    "# This statement prints your answer for reference to help answer the next question\n",
    "\n",
    "print(tv_mod_summ)\n"
   ]
  },
  {
   "cell_type": "markdown",
   "metadata": {
    "deletable": false,
    "editable": false,
    "nbgrader": {
     "cell_type": "markdown",
     "checksum": "beb6379cd376167db9e17a4e107af57b",
     "grade": false,
     "grade_id": "cell-5f3e1d2cefd52126",
     "locked": true,
     "schema_version": 3,
     "solution": false,
     "task": false
    }
   },
   "source": [
    "### 4.2) Short Answer: Is there a statistically significant relationship between TV advertising spend and sales in this model? How did you determine this from the model output? \n",
    "\n",
    "This question is asking you to use your findings from the sample in your dataset to make an inference about the relationship between TV advertising spend and sales in the broader population."
   ]
  },
  {
   "cell_type": "markdown",
   "metadata": {
    "deletable": false,
    "nbgrader": {
     "cell_type": "markdown",
     "checksum": "59f6b64c158b539b5af6131086919aa7",
     "grade": true,
     "grade_id": "cell-ebd4cb97464e0212",
     "locked": false,
     "points": 1,
     "schema_version": 3,
     "solution": true,
     "task": false
    }
   },
   "source": [
    "R-squared is 0.897, it has significant relationship between TV advertising spend and sales in this model"
   ]
  },
  {
   "cell_type": "markdown",
   "metadata": {
    "deletable": false,
    "editable": false,
    "nbgrader": {
     "cell_type": "markdown",
     "checksum": "3d1ca8d264a4765de254bf3c3e829980",
     "grade": false,
     "grade_id": "cell-f9264f78a47488f9",
     "locked": true,
     "schema_version": 3,
     "solution": false,
     "task": false
    }
   },
   "source": [
    "### 4.3) Short Answer: Run the cell below to produce a correlation matrix. Given the output, would you expect any collinearity issues if you included all of these features in one regression model? "
   ]
  },
  {
   "cell_type": "code",
   "execution_count": 11,
   "metadata": {
    "deletable": false,
    "editable": false,
    "nbgrader": {
     "cell_type": "code",
     "checksum": "faa9ab593ab402d6fd10a32edded417e",
     "grade": false,
     "grade_id": "cell-b6ced64fabee1fc2",
     "locked": true,
     "schema_version": 3,
     "solution": false,
     "task": false
    }
   },
   "outputs": [
    {
     "data": {
      "text/html": [
       "<div>\n",
       "<style scoped>\n",
       "    .dataframe tbody tr th:only-of-type {\n",
       "        vertical-align: middle;\n",
       "    }\n",
       "\n",
       "    .dataframe tbody tr th {\n",
       "        vertical-align: top;\n",
       "    }\n",
       "\n",
       "    .dataframe thead th {\n",
       "        text-align: right;\n",
       "    }\n",
       "</style>\n",
       "<table border=\"1\" class=\"dataframe\">\n",
       "  <thead>\n",
       "    <tr style=\"text-align: right;\">\n",
       "      <th></th>\n",
       "      <th>TV</th>\n",
       "      <th>radio</th>\n",
       "      <th>newspaper</th>\n",
       "    </tr>\n",
       "  </thead>\n",
       "  <tbody>\n",
       "    <tr>\n",
       "      <th>TV</th>\n",
       "      <td>1.000000</td>\n",
       "      <td>0.054809</td>\n",
       "      <td>0.056648</td>\n",
       "    </tr>\n",
       "    <tr>\n",
       "      <th>radio</th>\n",
       "      <td>0.054809</td>\n",
       "      <td>1.000000</td>\n",
       "      <td>0.354104</td>\n",
       "    </tr>\n",
       "    <tr>\n",
       "      <th>newspaper</th>\n",
       "      <td>0.056648</td>\n",
       "      <td>0.354104</td>\n",
       "      <td>1.000000</td>\n",
       "    </tr>\n",
       "  </tbody>\n",
       "</table>\n",
       "</div>"
      ],
      "text/plain": [
       "                 TV     radio  newspaper\n",
       "TV         1.000000  0.054809   0.056648\n",
       "radio      0.054809  1.000000   0.354104\n",
       "newspaper  0.056648  0.354104   1.000000"
      ]
     },
     "execution_count": 11,
     "metadata": {},
     "output_type": "execute_result"
    }
   ],
   "source": [
    "# Run this cell\n",
    "\n",
    "X.corr()"
   ]
  },
  {
   "cell_type": "markdown",
   "metadata": {
    "deletable": false,
    "nbgrader": {
     "cell_type": "markdown",
     "checksum": "c163fcec740c26c3600bd9131abf285d",
     "grade": true,
     "grade_id": "cell-c1e98a26b16748b1",
     "locked": false,
     "points": 1,
     "schema_version": 3,
     "solution": true,
     "task": false
    }
   },
   "source": [
    "It is no collinearity issues, because all correlation lower than 0.06"
   ]
  },
  {
   "cell_type": "markdown",
   "metadata": {
    "deletable": false,
    "editable": false,
    "nbgrader": {
     "cell_type": "markdown",
     "checksum": "87aef8737d9fdac8a6f10f61b6f9f51e",
     "grade": false,
     "grade_id": "cell-7bcdb87b7dd93748",
     "locked": true,
     "schema_version": 3,
     "solution": false,
     "task": false
    }
   },
   "source": [
    "### 4.4) Create a variable `all_mod_summ` containing the summary of a fit StatsModels `ols` model for a multiple regression using `TV`, `radio`, and `newspaper` to predict `sales`. "
   ]
  },
  {
   "cell_type": "markdown",
   "metadata": {
    "deletable": false,
    "editable": false,
    "nbgrader": {
     "cell_type": "markdown",
     "checksum": "a12cf310626e668b2b2a1e0185821686",
     "grade": false,
     "grade_id": "cell-4e8fd52f37265258",
     "locked": true,
     "schema_version": 3,
     "solution": false,
     "task": false
    }
   },
   "source": [
    "**Starter Code**\n",
    "\n",
    "    all_mod = ols(\n",
    "    all_mod_summ = all_mod.summary()"
   ]
  },
  {
   "cell_type": "code",
   "execution_count": 17,
   "metadata": {
    "deletable": false,
    "nbgrader": {
     "cell_type": "code",
     "checksum": "fd7bd4aa74972a22ea33636df916d03d",
     "grade": false,
     "grade_id": "cell-a9cc84d7d7666b0f",
     "locked": false,
     "schema_version": 3,
     "solution": true,
     "task": false
    }
   },
   "outputs": [],
   "source": [
    "# your code here\n",
    "y = data['sales']\n",
    "multiple_formula = sm.add_constant(data[['TV', 'radio', 'newspaper']])\n",
    "all_mod = sm.OLS(y, multiple_formula).fit()\n",
    "all_mod_summ = all_mod.summary()"
   ]
  },
  {
   "cell_type": "code",
   "execution_count": 18,
   "metadata": {
    "deletable": false,
    "editable": false,
    "nbgrader": {
     "cell_type": "code",
     "checksum": "a214461dd32c57c7f59aed4d420e5468",
     "grade": true,
     "grade_id": "cell-1f7f745c780b07b6",
     "locked": true,
     "points": 1,
     "schema_version": 3,
     "solution": false,
     "task": false
    }
   },
   "outputs": [
    {
     "name": "stdout",
     "output_type": "stream",
     "text": [
      "                            OLS Regression Results                            \n",
      "==============================================================================\n",
      "Dep. Variable:                  sales   R-squared:                       0.897\n",
      "Model:                            OLS   Adj. R-squared:                  0.896\n",
      "Method:                 Least Squares   F-statistic:                     570.3\n",
      "Date:                Thu, 24 Mar 2022   Prob (F-statistic):           1.58e-96\n",
      "Time:                        18:03:03   Log-Likelihood:                -386.18\n",
      "No. Observations:                 200   AIC:                             780.4\n",
      "Df Residuals:                     196   BIC:                             793.6\n",
      "Df Model:                           3                                         \n",
      "Covariance Type:            nonrobust                                         \n",
      "==============================================================================\n",
      "                 coef    std err          t      P>|t|      [0.025      0.975]\n",
      "------------------------------------------------------------------------------\n",
      "const          2.9389      0.312      9.422      0.000       2.324       3.554\n",
      "TV             0.0458      0.001     32.809      0.000       0.043       0.049\n",
      "radio          0.1885      0.009     21.893      0.000       0.172       0.206\n",
      "newspaper     -0.0010      0.006     -0.177      0.860      -0.013       0.011\n",
      "==============================================================================\n",
      "Omnibus:                       60.414   Durbin-Watson:                   2.084\n",
      "Prob(Omnibus):                  0.000   Jarque-Bera (JB):              151.241\n",
      "Skew:                          -1.327   Prob(JB):                     1.44e-33\n",
      "Kurtosis:                       6.332   Cond. No.                         454.\n",
      "==============================================================================\n",
      "\n",
      "Notes:\n",
      "[1] Standard Errors assume that the covariance matrix of the errors is correctly specified.\n"
     ]
    }
   ],
   "source": [
    "# This test confirms that you have created a variable named all_mod_summ containing a StatsModels Summary\n",
    "\n",
    "assert type(all_mod_summ) == statsmodels.iolib.summary.Summary\n",
    "\n",
    "# This statement prints your answer for reference to help answer the next question\n",
    "\n",
    "print(all_mod_summ)\n"
   ]
  },
  {
   "cell_type": "markdown",
   "metadata": {
    "deletable": false,
    "editable": false,
    "nbgrader": {
     "cell_type": "markdown",
     "checksum": "0564c6a983233eaefeebe898c1aa754c",
     "grade": false,
     "grade_id": "cell-11c269bfe15e7f49",
     "locked": true,
     "schema_version": 3,
     "solution": false,
     "task": false
    }
   },
   "source": [
    "### 4.5) Short Answer: Does this model do a better job of explaining sales than the previous model using only the `TV` feature? Explain how you determined this based on the model output. "
   ]
  },
  {
   "cell_type": "markdown",
   "metadata": {
    "deletable": false,
    "nbgrader": {
     "cell_type": "markdown",
     "checksum": "a7133c8c0af065954fc2eb9c89d91d33",
     "grade": true,
     "grade_id": "cell-7e27f10fcaaed6a9",
     "locked": false,
     "points": 1,
     "schema_version": 3,
     "solution": true,
     "task": false
    }
   },
   "source": [
    "Yes, TV has the hightest number in t 32.809, radio second."
   ]
  },
  {
   "cell_type": "code",
   "execution_count": null,
   "metadata": {},
   "outputs": [],
   "source": []
  }
 ],
 "metadata": {
  "kernelspec": {
   "display_name": "Python 3",
   "language": "python",
   "name": "python3"
  },
  "language_info": {
   "codemirror_mode": {
    "name": "ipython",
    "version": 3
   },
   "file_extension": ".py",
   "mimetype": "text/x-python",
   "name": "python",
   "nbconvert_exporter": "python",
   "pygments_lexer": "ipython3",
   "version": "3.9.5"
  },
  "toc": {
   "base_numbering": 1,
   "nav_menu": {},
   "number_sections": true,
   "sideBar": true,
   "skip_h1_title": false,
   "title_cell": "Table of Contents",
   "title_sidebar": "Contents",
   "toc_cell": false,
   "toc_position": {},
   "toc_section_display": true,
   "toc_window_display": false
  }
 },
 "nbformat": 4,
 "nbformat_minor": 4
}
