{
 "cells": [
  {
   "cell_type": "markdown",
   "metadata": {
    "deletable": false,
    "editable": false,
    "nbgrader": {
     "cell_type": "markdown",
     "checksum": "7ee9922008d96d412bc401887a3ac7e1",
     "grade": false,
     "grade_id": "d6738adba0561611b83233425ec2d5c6",
     "locked": true,
     "schema_version": 3,
     "solution": false,
     "task": false
    }
   },
   "source": [
    "## Object Oriented Programming\n",
    "\n",
    "In this exercise you will primarily be exploring a Pokemon dataset. Pokemon are fictional creatures from the [Nintendo franchise](https://en.wikipedia.org/wiki/Pok%C3%A9mon) of the same name.\n",
    "\n",
    "Some Pokemon facts that might be useful:\n",
    "* The word \"pokemon\" is both singular and plural. You may refer to \"one pokemon\" or \"many pokemon\".\n",
    "* Pokemon have attributes such as a name, weight, and height.\n",
    "* Pokemon have one or multiple \"types\". A type is something like \"electric\", \"water\", \"ghost\", or \"normal\" that indicates the abilities that pokemon may possess.\n",
    "* The humans who collect pokemon are called \"trainers\".\n",
    "\n",
    "As a pokemon trainer we want to make sure our pokemon are performing at their peak. To measure this, we want to calculate a pokemon's Body Mass Index (or BMI). This is a statistic calculated using the pokemon's height and weight. \n",
    "\n",
    "To help with this task we we will create Pokemon objects that methods can be called on. \n",
    "\n",
    "You'll be working with following dictionaries to create the `Pokemon` objects"
   ]
  },
  {
   "cell_type": "code",
   "execution_count": 1,
   "metadata": {
    "deletable": false,
    "editable": false,
    "nbgrader": {
     "cell_type": "code",
     "checksum": "8758a0c85f9ed6f620e2d24d5773d6f9",
     "grade": false,
     "grade_id": "af188c75a93db33e7f440b219943a3f9",
     "locked": true,
     "schema_version": 3,
     "solution": false,
     "task": false
    }
   },
   "outputs": [],
   "source": [
    "# Run this cell without changes\n",
    "bulbasaur_data = {\n",
    "    \"name\": 'bulbasaur',\n",
    "    \"weight\": 69,\n",
    "    \"height\": 7,\n",
    "    \"base_experience\": 64,\n",
    "    \"types\": [\"grass\", \"poison\"]\n",
    "}\n",
    "charmander_data = {\n",
    "    \"name\": 'charmander',\n",
    "    \"weight\": 85,\n",
    "    \"height\": 6,\n",
    "    \"base_experience\": 62,\n",
    "    \"types\": [\"fire\"]\n",
    "}\n",
    "squirtle_data = {\n",
    "    \"name\": 'squirtle',\n",
    "    \"weight\": 90,\n",
    "    \"height\": 5,\n",
    "    \"base_experience\": 63,\n",
    "    \"types\": [\"water\"]\n",
    "}"
   ]
  },
  {
   "cell_type": "markdown",
   "metadata": {
    "deletable": false,
    "editable": false,
    "nbgrader": {
     "cell_type": "markdown",
     "checksum": "b857c67092b6d8c546de8d97302d74ec",
     "grade": false,
     "grade_id": "9958eac5a5be407bd97172281b582f68",
     "locked": true,
     "schema_version": 3,
     "solution": false,
     "task": false
    }
   },
   "source": [
    "### 1. Creating a Class\n",
    "\n",
    "Create a class called `Pokemon` with an `__init__` method. \n",
    "\n",
    "Along with the necessary `self` parameter, the `__init__` method should \n",
    "take in `data` as a parameter.\n",
    "\n",
    "With the idea that one of the dictionaries above will be passed in as `data`, \n",
    "assign these specific attributes within the `__init__` method:\n",
    " \n",
    "* `name` : value from the 'name' key of the dictionary passed in `data`\n",
    "* `weight`: value from the 'weight' key of the dictionary passed in `data`\n",
    "* `height`: value from the 'height' key of the dictionary passed in `data`"
   ]
  },
  {
   "cell_type": "code",
   "execution_count": 7,
   "metadata": {
    "deletable": false,
    "nbgrader": {
     "cell_type": "code",
     "checksum": "a039fddff84efbb9340962ad2c84ee0d",
     "grade": false,
     "grade_id": "a3c7486e597da698c495a7e9019cf08b",
     "locked": false,
     "schema_version": 3,
     "solution": true,
     "task": false
    }
   },
   "outputs": [],
   "source": [
    "# Create your class below with the correct syntax, including an __init__ method.\n",
    "class Pokemon:\n",
    "    def __init__(self, data):\n",
    "        self.name = data['name']\n",
    "        self.weight = data['weight']\n",
    "        self.height = data['height']\n",
    "# your code here"
   ]
  },
  {
   "cell_type": "code",
   "execution_count": 8,
   "metadata": {
    "deletable": false,
    "editable": false,
    "nbgrader": {
     "cell_type": "code",
     "checksum": "42abcd5da65acdedd60dab12e4cecd48",
     "grade": true,
     "grade_id": "eeed2f8de21f67ce0a7c2b163ce7430d",
     "locked": true,
     "points": 1,
     "schema_version": 3,
     "solution": false,
     "task": false
    }
   },
   "outputs": [],
   "source": [
    "# PUT ALL WORK FOR THE ABOVE QUESTION ABOVE THIS CELL\n",
    "# THIS UNALTERABLE CELL CONTAINS HIDDEN TESTS\n",
    "\n",
    "# Pokemon should be a class that exists in this namespace\n",
    "assert type(Pokemon) == type\n"
   ]
  },
  {
   "cell_type": "markdown",
   "metadata": {
    "deletable": false,
    "editable": false,
    "nbgrader": {
     "cell_type": "markdown",
     "checksum": "bd900fef075ffac6124e017c32f7d386",
     "grade": false,
     "grade_id": "1295bca9979391d54e03a0999127b3d6",
     "locked": true,
     "schema_version": 3,
     "solution": false,
     "task": false
    }
   },
   "source": [
    "    \n",
    "### 2. Instantiating Objects\n",
    "\n",
    "Using the `bulbasaur_data`, `charmander_data` and `squirtle_data` variables, create the corresponding pokemon objects."
   ]
  },
  {
   "cell_type": "code",
   "execution_count": 10,
   "metadata": {
    "deletable": false,
    "nbgrader": {
     "cell_type": "code",
     "checksum": "6f624fa6357496df73074060e499167b",
     "grade": false,
     "grade_id": "48e5fe8a1075f95b1a9b46caedfbfc37",
     "locked": false,
     "schema_version": 3,
     "solution": true,
     "task": false
    }
   },
   "outputs": [
    {
     "name": "stdout",
     "output_type": "stream",
     "text": [
      "Name: bulbasaur\n",
      "Weight: 69\n",
      "Height: 7\n",
      "\n",
      "\n",
      "Name: charmander\n",
      "Weight: 85\n",
      "Height: 6\n",
      "\n",
      "\n",
      "Name: squirtle\n",
      "Weight: 90\n",
      "Height: 5\n",
      "\n",
      "\n"
     ]
    }
   ],
   "source": [
    "# Replace None with appropriate code\n",
    "\n",
    "bulbasaur = Pokemon(bulbasaur_data)\n",
    "charmander = Pokemon(charmander_data)\n",
    "squirtle = Pokemon(squirtle_data)\n",
    "\n",
    "# your code here\n",
    "\n",
    "# This code will test your implementation. Make sure the values printed\n",
    "# match the dictionaries above!\n",
    "def print_pokeinfo(pkmn):\n",
    "    print('Name: ' + pkmn.name)\n",
    "    print('Weight: ' + str(pkmn.weight))\n",
    "    print('Height: ' + str(pkmn.height))\n",
    "    print('\\n')\n",
    "    \n",
    "print_pokeinfo(bulbasaur)\n",
    "print_pokeinfo(charmander)\n",
    "print_pokeinfo(squirtle)"
   ]
  },
  {
   "cell_type": "code",
   "execution_count": 11,
   "metadata": {
    "deletable": false,
    "editable": false,
    "nbgrader": {
     "cell_type": "code",
     "checksum": "8da32c7fa7b319d02b7a002eaeb97163",
     "grade": true,
     "grade_id": "d858684ed54b6d901e6879ec5297a21b",
     "locked": true,
     "points": 1,
     "schema_version": 3,
     "solution": false,
     "task": false
    }
   },
   "outputs": [],
   "source": [
    "# PUT ALL WORK FOR THE ABOVE QUESTION ABOVE THIS CELL\n",
    "# THIS UNALTERABLE CELL CONTAINS HIDDEN TESTS\n",
    "\n",
    "assert type(bulbasaur) == Pokemon\n",
    "assert type(charmander) == Pokemon\n",
    "assert type(squirtle) == Pokemon\n"
   ]
  },
  {
   "cell_type": "markdown",
   "metadata": {
    "deletable": false,
    "editable": false,
    "nbgrader": {
     "cell_type": "markdown",
     "checksum": "145aa9de07ae173599e83130962bf765",
     "grade": false,
     "grade_id": "cell-1ecb2c77a0178025",
     "locked": true,
     "schema_version": 3,
     "solution": false,
     "task": false
    }
   },
   "source": [
    "### 3. Update an instance attribute\n",
    "\n",
    "Using the charmander instance, increase the weight attribute by 5. "
   ]
  },
  {
   "cell_type": "code",
   "execution_count": 15,
   "metadata": {
    "deletable": false,
    "nbgrader": {
     "cell_type": "code",
     "checksum": "7e5f5d005ad62e2a89a89c77e535464e",
     "grade": false,
     "grade_id": "cell-7e82657b2cb762a9",
     "locked": false,
     "schema_version": 3,
     "solution": true,
     "task": false
    }
   },
   "outputs": [
    {
     "data": {
      "text/plain": [
       "100"
      ]
     },
     "execution_count": 15,
     "metadata": {},
     "output_type": "execute_result"
    }
   ],
   "source": [
    "# your code here\n",
    "charmander.weight += 5\n",
    "charmander.weight"
   ]
  },
  {
   "cell_type": "code",
   "execution_count": 16,
   "metadata": {
    "deletable": false,
    "editable": false,
    "nbgrader": {
     "cell_type": "code",
     "checksum": "fe6c5c87ab9f67bf6ad6d04c2eef512c",
     "grade": true,
     "grade_id": "cell-4f82e207aa09b98d",
     "locked": true,
     "points": 1,
     "schema_version": 3,
     "solution": false,
     "task": false
    }
   },
   "outputs": [],
   "source": [
    "# PUT ALL WORK FOR THE ABOVE QUESTION ABOVE THIS CELL\n",
    "# THIS UNALTERABLE CELL CONTAINS HIDDEN TESTS\n"
   ]
  },
  {
   "cell_type": "markdown",
   "metadata": {
    "deletable": false,
    "editable": false,
    "nbgrader": {
     "cell_type": "markdown",
     "checksum": "777f6b5608c930bd8e49652480078b37",
     "grade": false,
     "grade_id": "bffb182fbd44a7c58bdc9327a4680657",
     "locked": true,
     "schema_version": 3,
     "solution": false,
     "task": false
    }
   },
   "source": [
    "### 4. Instance Methods\n",
    "\n",
    "Re-write the class `Pokemon` below, so that it has an instance method called `bmi` that calculates the BMI of a Pokemon.\n",
    "\n",
    "BMI is defined by the formula: $\\frac{weight}{height^{2}}$ \n",
    "\n",
    "The BMI should be calculated with weight in **kilograms** and height in **meters**. \n",
    "\n",
    "The height and weight data of Pokemon from the dictionaries above is in **decimeters** and **hectograms**, respectively. \n",
    "\n",
    "You will have to convert the given values of height and weight to kilograms and meters to make the BMI calculations correct.\n",
    "\n",
    "For your convenience, here are the conversions:\n",
    "\n",
    "```\n",
    "1 decimeter = 0.1 meters\n",
    "1 hectogram = 0.1 kilograms\n",
    "```\n",
    "\n",
    "**Don't forget**: since you are changing the `Pokemon` class, you will have to create **new objects** of this **new class**. \n",
    "\n",
    "If you use the objects created by the first class you wrote, they will not have the `bmi` instance!\n",
    "\n",
    "You can assign these new objects the same names as you assigned the old ones:\n",
    "`bulbasaur`, `charmander` and `squirtle`"
   ]
  },
  {
   "cell_type": "code",
   "execution_count": 22,
   "metadata": {
    "deletable": false,
    "nbgrader": {
     "cell_type": "code",
     "checksum": "1d06e6981618f5b071a1d9106cdcad6a",
     "grade": false,
     "grade_id": "2fdf7167c74891ba6f40289713cf8f1b",
     "locked": false,
     "schema_version": 3,
     "solution": true,
     "task": false
    }
   },
   "outputs": [
    {
     "name": "stdout",
     "output_type": "stream",
     "text": [
      "14.081632653061227\n",
      "23.61111111111111\n",
      "36.0\n"
     ]
    }
   ],
   "source": [
    "# Define the new Pokemon class here\n",
    "class Pokemon:\n",
    "    def __init__(self, data):\n",
    "        self.name = data['name']\n",
    "        self.weight = data['weight']\n",
    "        self.height = data['height']\n",
    "    \n",
    "    def bmi(self):\n",
    "        weight_in_kilograms = self.weight / 10\n",
    "        height_in_meters = self.height / 10\n",
    "        bmi = weight_in_kilograms / (height_in_meters**2)\n",
    "        return bmi\n",
    "            \n",
    "\n",
    "# Replace None with appropriate code\n",
    "bulbasaur = Pokemon(bulbasaur_data)\n",
    "charmander = Pokemon(charmander_data)\n",
    "squirtle = Pokemon(squirtle_data)\n",
    "\n",
    "# your code here\n",
    "\n",
    "\n",
    "# This code will test your implementation\n",
    "print(bulbasaur.bmi()) \n",
    "print(charmander.bmi()) \n",
    "print(squirtle.bmi()) "
   ]
  },
  {
   "cell_type": "code",
   "execution_count": 21,
   "metadata": {
    "deletable": false,
    "editable": false,
    "nbgrader": {
     "cell_type": "code",
     "checksum": "b6520ccac8b8f2159861f6e4d33e8554",
     "grade": true,
     "grade_id": "4bdd59541fbf9055ee7815c7e797521c",
     "locked": true,
     "points": 2,
     "schema_version": 3,
     "solution": false,
     "task": false
    }
   },
   "outputs": [],
   "source": [
    "# PUT ALL WORK FOR THE ABOVE QUESTION ABOVE THIS CELL\n",
    "# THIS UNALTERABLE CELL CONTAINS HIDDEN TESTS\n",
    "\n",
    "# bulbasaur.bmi should be a method on an instance of type Pokemon\n",
    "import types\n",
    "assert type(bulbasaur.bmi) == types.MethodType\n",
    "# bulbasaur.bmi() should return a floating point number\n",
    "assert type(bulbasaur.bmi()) == float"
   ]
  },
  {
   "cell_type": "code",
   "execution_count": null,
   "metadata": {},
   "outputs": [],
   "source": []
  }
 ],
 "metadata": {
  "kernelspec": {
   "display_name": "Python 3",
   "language": "python",
   "name": "python3"
  },
  "language_info": {
   "codemirror_mode": {
    "name": "ipython",
    "version": 3
   },
   "file_extension": ".py",
   "mimetype": "text/x-python",
   "name": "python",
   "nbconvert_exporter": "python",
   "pygments_lexer": "ipython3",
   "version": "3.9.5"
  }
 },
 "nbformat": 4,
 "nbformat_minor": 4
}
