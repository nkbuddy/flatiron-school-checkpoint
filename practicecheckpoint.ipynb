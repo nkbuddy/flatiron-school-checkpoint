{
 "cells": [
  {
   "cell_type": "markdown",
   "metadata": {
    "deletable": false,
    "editable": false,
    "nbgrader": {
     "cell_type": "markdown",
     "checksum": "23540dcb05acfaf4b6831f1edccaa70d",
     "grade": false,
     "grade_id": "58c5d138de0cf674aaa9b0286bb12bca",
     "locked": true,
     "schema_version": 3,
     "solution": false,
     "task": false
    }
   },
   "source": [
    "# Data Science Practice Checkpoint\n",
    "\n",
    "This assignment is designed to test your understanding of the checkpoint process. It covers:\n",
    "\n",
    " - Anwering a code question\n",
    " - Answering a short answer question\n",
    " \n",
    "Read the instructions carefully. You will be asked both to write code and to respond to a short answer question.\n",
    "\n",
    "**Note on checkpoint short answer questions:** Please use your own words. The expectation is that you have not copied and pasted from an external source, even if you consult another source to help craft your response. While the short answer questions are not necessarily being assessed on grammatical correctness or sentence structure, you should do your best to communicate yourself clearly."
   ]
  },
  {
   "cell_type": "markdown",
   "metadata": {
    "deletable": false,
    "editable": false,
    "nbgrader": {
     "cell_type": "markdown",
     "checksum": "61083ec667e8850cfd58a85af4fa879a",
     "grade": false,
     "grade_id": "dbc759291e61caa3abff81965d58106d",
     "locked": true,
     "schema_version": 3,
     "solution": false,
     "task": false
    }
   },
   "source": [
    "## Imports\n",
    "\n",
    "You will usually have to import different packages into a checkpoint or other material we give you\n",
    "\n",
    "Don't worry if you don't have all the mechanics about what that means at this point\n",
    "\n",
    "Just run the cell below, which is an example that imports the `string` module\n",
    "\n",
    "(You do not need to use the `string` module to answer these questions, although technically you can use it if you want to)"
   ]
  },
  {
   "cell_type": "code",
   "execution_count": 1,
   "metadata": {
    "deletable": false,
    "editable": false,
    "nbgrader": {
     "cell_type": "code",
     "checksum": "dd6289e860a0a968efa70a7fac757e85",
     "grade": false,
     "grade_id": "cell-43f5d1ddfd9550ba",
     "locked": true,
     "schema_version": 3,
     "solution": false,
     "task": false
    }
   },
   "outputs": [],
   "source": [
    "# Run this cell without changes\n",
    "# (Note that you are not able to edit this cell, only to run it)\n",
    "import string"
   ]
  },
  {
   "cell_type": "markdown",
   "metadata": {
    "deletable": false,
    "editable": false,
    "nbgrader": {
     "cell_type": "markdown",
     "checksum": "54679a4a24dff482fff682f4348f54c8",
     "grade": false,
     "grade_id": "89300e37881c21a479089ce596b6b69f",
     "locked": true,
     "schema_version": 3,
     "solution": false,
     "task": false
    }
   },
   "source": [
    "## Question 1\n",
    "\n",
    "### Question Content\n",
    "\n",
    "In the cell below, modify the `greet_user` function to do the following:\n",
    "\n",
    " - take a name as an argument\n",
    " - return the statement \"Greetings! I am `name` and I am pleased to make your acquaintance!\"\n",
    "\n",
    "Then assign the name `\"Gene Hackman\"` to the variable `name`.\n",
    "\n",
    "Run all cells to confirm the result.\n",
    "\n",
    "### Additional Notes\n",
    "\n",
    "Note that there are code snippets like this in each code cell where you need to write an answer:\n",
    "\n",
    "```python\n",
    "# your code here\n",
    "raise NotImplementedError\n",
    "```\n",
    "\n",
    "You can remove both of these lines, when you have replaced `None` with the right code. The purpose of these lines is to help you avoid accidentially forgetting to answer a question.\n",
    "\n",
    "If you click the `Validate` button at the top, that will tell you whether you successfully removed all of those `raise NotImplementedError` lines. It will not tell you whether your answer is actually correct.\n",
    "\n",
    "You can also generally ignore the language of \"your code here\". Instead pay attention to where the `None`s are that need to be replaced. "
   ]
  },
  {
   "cell_type": "code",
   "execution_count": 17,
   "metadata": {
    "deletable": false,
    "nbgrader": {
     "cell_type": "code",
     "checksum": "6f04b8f170e8f43d9a859e1a274e28b5",
     "grade": false,
     "grade_id": "cell-7106167b0ddee0a5",
     "locked": false,
     "schema_version": 3,
     "solution": true,
     "task": false
    }
   },
   "outputs": [],
   "source": [
    "# Replace None with appropriate code\n",
    "\n",
    "def greet_user(name):\n",
    "    \"\"\"\n",
    "    this function takes a string name as an argument \n",
    "    and returns a greeting including that name \n",
    "    \"\"\"\n",
    "    statement = \"Greeting! I am {} and I am pleased to make your acquaintance!\".format(name)\n",
    "\n",
    "    \n",
    "    return statement\n",
    "    "
   ]
  },
  {
   "cell_type": "code",
   "execution_count": 18,
   "metadata": {
    "deletable": false,
    "nbgrader": {
     "cell_type": "code",
     "checksum": "e04d74babbe04d87e01fe80a5ac43a20",
     "grade": false,
     "grade_id": "cell-dee65e5abdf05a93",
     "locked": false,
     "schema_version": 3,
     "solution": true,
     "task": false
    }
   },
   "outputs": [],
   "source": [
    "# Replace None with appropriate code\n",
    "name = \"Gene Hackman\""
   ]
  },
  {
   "cell_type": "code",
   "execution_count": 19,
   "metadata": {
    "deletable": false,
    "editable": false,
    "nbgrader": {
     "cell_type": "code",
     "checksum": "f3cae34fb5ea76787ca1df9049905e42",
     "grade": false,
     "grade_id": "cell-17700144d3c2e805",
     "locked": true,
     "schema_version": 3,
     "solution": false,
     "task": false
    }
   },
   "outputs": [
    {
     "name": "stdout",
     "output_type": "stream",
     "text": [
      "Greeting! I am Gene Hackman and I am pleased to make your acquaintance!\n"
     ]
    }
   ],
   "source": [
    "print(greet_user(name))"
   ]
  },
  {
   "cell_type": "markdown",
   "metadata": {
    "deletable": false,
    "editable": false,
    "nbgrader": {
     "cell_type": "markdown",
     "checksum": "7bacf2bdc914fa18f7e3ab09bb7db5ca",
     "grade": false,
     "grade_id": "cell-8d7ddfd00efc0027",
     "locked": true,
     "schema_version": 3,
     "solution": false,
     "task": false
    }
   },
   "source": [
    "### Test Cells\n",
    "\n",
    "Similar to the imports cell above, you will not be able to modify the test cells. They contain a combination of visible and hidden tests. Make sure you restart your kernel and run all cells to make sure that you are passing the visible tests, although this doesn't fully guarantee that your answer is correct.\n",
    "\n",
    "You will see an error message explaining what is wrong if your answer does not pass the visible tests."
   ]
  },
  {
   "cell_type": "code",
   "execution_count": 21,
   "metadata": {
    "deletable": false,
    "editable": false,
    "nbgrader": {
     "cell_type": "code",
     "checksum": "73e1372872b7daf4d5034caa691e5dcf",
     "grade": true,
     "grade_id": "cell-1153c5a262a90d64",
     "locked": true,
     "points": 1,
     "schema_version": 3,
     "solution": false,
     "task": false
    }
   },
   "outputs": [],
   "source": [
    "# greet_user should return a string\n",
    "assert type(greet_user(\"Max\")) == str\n",
    "# name should be a string\n",
    "assert type(name) == str\n",
    "\n",
    "# PUT ALL WORK FOR THE ABOVE QUESTION ABOVE THIS CELL\n",
    "# THIS UNALTERABLE CELL CONTAINS HIDDEN TESTS"
   ]
  },
  {
   "cell_type": "markdown",
   "metadata": {
    "deletable": false,
    "editable": false,
    "nbgrader": {
     "cell_type": "markdown",
     "checksum": "ec9fbb2961cc2bb15bccd413c03a87d6",
     "grade": false,
     "grade_id": "873bfe5c67915f53800b3d0382a4e6b4",
     "locked": true,
     "schema_version": 3,
     "solution": false,
     "task": false
    }
   },
   "source": [
    "## Question 2\n",
    "\n",
    "### Question Content\n",
    "\n",
    "Please explain the purpose of checkpoints and code challenges in the Flatiron School Data Science program.\n",
    "\n",
    "### Additional Notes\n",
    "\n",
    "Double-click on the markdown cell where it says `YOUR ANSWER HERE` to write your answer (replacing the `YOUR ANSWER HERE` text). If you write your answer somewhere else, the grader will assume you did not answer the question.\n",
    "\n",
    "This is a short-answer question so there are no test cells. Instead your teacher will review and grade this answer manually."
   ]
  },
  {
   "cell_type": "markdown",
   "metadata": {
    "deletable": false,
    "nbgrader": {
     "cell_type": "markdown",
     "checksum": "833268311e98ffcea7c6656285622c99",
     "grade": true,
     "grade_id": "db75efa6fb1db7129194fbbfb2968f32",
     "locked": false,
     "points": 1,
     "schema_version": 3,
     "solution": true,
     "task": false
    }
   },
   "source": [
    "help us understand the checkpoints how it work."
   ]
  },
  {
   "cell_type": "code",
   "execution_count": null,
   "metadata": {},
   "outputs": [],
   "source": []
  }
 ],
 "metadata": {
  "kernelspec": {
   "display_name": "Python 3",
   "language": "python",
   "name": "python3"
  },
  "language_info": {
   "codemirror_mode": {
    "name": "ipython",
    "version": 3
   },
   "file_extension": ".py",
   "mimetype": "text/x-python",
   "name": "python",
   "nbconvert_exporter": "python",
   "pygments_lexer": "ipython3",
   "version": "3.9.5"
  }
 },
 "nbformat": 4,
 "nbformat_minor": 4
}
